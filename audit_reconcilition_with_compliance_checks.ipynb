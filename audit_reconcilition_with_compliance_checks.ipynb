{
 "cells": [
  {
   "cell_type": "code",
   "execution_count": 15,
   "id": "48514a34-e709-482d-915e-a6a70167fa86",
   "metadata": {},
   "outputs": [
    {
     "name": "stdout",
     "output_type": "stream",
     "text": [
      "Requirement already satisfied: pandas in c:\\users\\tanupriya\\anaconda3\\lib\\site-packages (2.1.4)\n",
      "Requirement already satisfied: openpyxl in c:\\users\\tanupriya\\anaconda3\\lib\\site-packages (3.0.10)\n",
      "Requirement already satisfied: numpy<2,>=1.23.2 in c:\\users\\tanupriya\\anaconda3\\lib\\site-packages (from pandas) (1.26.4)\n",
      "Requirement already satisfied: python-dateutil>=2.8.2 in c:\\users\\tanupriya\\anaconda3\\lib\\site-packages (from pandas) (2.8.2)\n",
      "Requirement already satisfied: pytz>=2020.1 in c:\\users\\tanupriya\\anaconda3\\lib\\site-packages (from pandas) (2023.3.post1)\n",
      "Requirement already satisfied: tzdata>=2022.1 in c:\\users\\tanupriya\\anaconda3\\lib\\site-packages (from pandas) (2023.3)\n",
      "Requirement already satisfied: et_xmlfile in c:\\users\\tanupriya\\anaconda3\\lib\\site-packages (from openpyxl) (1.1.0)\n",
      "Requirement already satisfied: six>=1.5 in c:\\users\\tanupriya\\anaconda3\\lib\\site-packages (from python-dateutil>=2.8.2->pandas) (1.16.0)\n",
      "Note: you may need to restart the kernel to use updated packages.\n"
     ]
    }
   ],
   "source": [
    "pip install pandas openpyxl\n"
   ]
  },
  {
   "cell_type": "code",
   "execution_count": 16,
   "id": "740f3c99-d48d-48b4-9ce3-e7a381376993",
   "metadata": {},
   "outputs": [
    {
     "name": "stdout",
     "output_type": "stream",
     "text": [
      "Bank Data:\n",
      "        Date Description  Amount  Account Number\n",
      "0 2024-12-01     Deposit    5000           12345\n",
      "1 2024-12-02     Payment   -1500           12345\n",
      "2 2024-12-03    Transfer    3000           12345\n",
      "3 2024-12-05     Payment   -2000           12345\n",
      "\n",
      "Ledger Data:\n",
      "        Date Transaction ID  Amount    Vendor  Account\n",
      "0 2024-12-01           T001    5000      Bank    12345\n",
      "1 2024-12-02           T002   -1500  Vendor A    12345\n",
      "2 2024-12-03           T003    3000  Vendor B    12345\n",
      "3 2024-12-04           T004   -2500  Vendor C    12345\n"
     ]
    }
   ],
   "source": [
    "import pandas as pd\n",
    "\n",
    "# Load Excel file\n",
    "file_path = \"C:/Users/tanupriya/Desktop/datasets/bank.xls\"\n",
    "\n",
    "# Load sheets\n",
    "bank_data = pd.read_excel(file_path, sheet_name=\"bank statement\")\n",
    "ledger_data = pd.read_excel(file_path, sheet_name=\"internal ledger\")\n",
    "\n",
    "# Display the loaded data\n",
    "print(\"Bank Data:\")\n",
    "print(bank_data.head())\n",
    "print(\"\\nLedger Data:\")\n",
    "print(ledger_data.head())\n"
   ]
  },
  {
   "cell_type": "code",
   "execution_count": 17,
   "id": "9c2cee2c-3db9-4fc1-9978-630250d4067f",
   "metadata": {},
   "outputs": [
    {
     "name": "stdout",
     "output_type": "stream",
     "text": [
      "\n",
      "Missing Values in Bank Data:\n",
      "Date              0\n",
      "Description       0\n",
      "Amount            0\n",
      "Account Number    0\n",
      "dtype: int64\n",
      "\n",
      "Missing Values in Ledger Data:\n",
      "Date              0\n",
      "Transaction ID    0\n",
      "Amount            0\n",
      "Vendor            0\n",
      "Account           0\n",
      "dtype: int64\n",
      "\n",
      "Cleaned Bank Data:\n",
      "        Date Description  Amount  Account Number\n",
      "0 2024-12-01     Deposit    5000           12345\n",
      "1 2024-12-02     Payment   -1500           12345\n",
      "2 2024-12-03    Transfer    3000           12345\n",
      "3 2024-12-05     Payment   -2000           12345\n",
      "\n",
      "Cleaned Ledger Data:\n",
      "        Date Transaction ID  Amount    Vendor  Account\n",
      "0 2024-12-01           T001    5000      Bank    12345\n",
      "1 2024-12-02           T002   -1500  Vendor A    12345\n",
      "2 2024-12-03           T003    3000  Vendor B    12345\n",
      "3 2024-12-04           T004   -2500  Vendor C    12345\n"
     ]
    }
   ],
   "source": [
    "# Convert Date columns to datetime format\n",
    "bank_data['Date'] = pd.to_datetime(bank_data['Date'], errors='coerce')\n",
    "ledger_data['Date'] = pd.to_datetime(ledger_data['Date'], errors='coerce')\n",
    "\n",
    "# Check for missing values\n",
    "print(\"\\nMissing Values in Bank Data:\")\n",
    "print(bank_data.isnull().sum())\n",
    "print(\"\\nMissing Values in Ledger Data:\")\n",
    "print(ledger_data.isnull().sum())\n",
    "\n",
    "# Remove duplicate rows if needed\n",
    "bank_data = bank_data.drop_duplicates()\n",
    "ledger_data = ledger_data.drop_duplicates()\n",
    "\n",
    "# Display cleaned data\n",
    "print(\"\\nCleaned Bank Data:\")\n",
    "print(bank_data.head())\n",
    "print(\"\\nCleaned Ledger Data:\")\n",
    "print(ledger_data.head())\n"
   ]
  },
  {
   "cell_type": "code",
   "execution_count": 18,
   "id": "49413640-2f0b-4bab-8c7c-df80e9cf234f",
   "metadata": {},
   "outputs": [
    {
     "name": "stdout",
     "output_type": "stream",
     "text": [
      "        Date Description  Amount  Account Number Transaction ID    Vendor  \\\n",
      "0 2024-12-01     Deposit    5000         12345.0           T001      Bank   \n",
      "1 2024-12-02     Payment   -1500         12345.0           T002  Vendor A   \n",
      "2 2024-12-03    Transfer    3000         12345.0           T003  Vendor B   \n",
      "3 2024-12-05     Payment   -2000         12345.0            NaN       NaN   \n",
      "4 2024-12-04         NaN   -2500             NaN           T004  Vendor C   \n",
      "\n",
      "   Account      _merge  \n",
      "0  12345.0        both  \n",
      "1  12345.0        both  \n",
      "2  12345.0        both  \n",
      "3      NaN   left_only  \n",
      "4  12345.0  right_only  \n"
     ]
    }
   ],
   "source": [
    "# Merge the datasets\n",
    "merged_data = pd.merge(\n",
    "    bank_data,\n",
    "    ledger_data,\n",
    "    on=[\"Date\", \"Amount\"],\n",
    "    how=\"outer\",\n",
    "    indicator=True\n",
    ")\n",
    "\n",
    "# Display merged data\n",
    "print(merged_data.head())\n"
   ]
  },
  {
   "cell_type": "code",
   "execution_count": 19,
   "id": "25ebc706-132b-45ad-a037-696956f34391",
   "metadata": {},
   "outputs": [
    {
     "name": "stdout",
     "output_type": "stream",
     "text": [
      "\n",
      "Matched Transactions:\n",
      "        Date Description  Amount  Account Number Transaction ID    Vendor  \\\n",
      "0 2024-12-01     Deposit    5000         12345.0           T001      Bank   \n",
      "1 2024-12-02     Payment   -1500         12345.0           T002  Vendor A   \n",
      "2 2024-12-03    Transfer    3000         12345.0           T003  Vendor B   \n",
      "\n",
      "   Account _merge  \n",
      "0  12345.0   both  \n",
      "1  12345.0   both  \n",
      "2  12345.0   both  \n",
      "\n",
      "Unmatched Transactions in Bank Data:\n",
      "        Date Description  Amount  Account Number Transaction ID Vendor  \\\n",
      "3 2024-12-05     Payment   -2000         12345.0            NaN    NaN   \n",
      "\n",
      "   Account     _merge  \n",
      "3      NaN  left_only  \n",
      "\n",
      "Unmatched Transactions in Ledger Data:\n",
      "        Date Description  Amount  Account Number Transaction ID    Vendor  \\\n",
      "4 2024-12-04         NaN   -2500             NaN           T004  Vendor C   \n",
      "\n",
      "   Account      _merge  \n",
      "4  12345.0  right_only  \n"
     ]
    }
   ],
   "source": [
    "# Separate matched and unmatched transactions\n",
    "matched = merged_data[merged_data[\"_merge\"] == \"both\"]\n",
    "unmatched_bank = merged_data[merged_data[\"_merge\"] == \"left_only\"]\n",
    "unmatched_ledger = merged_data[merged_data[\"_merge\"] == \"right_only\"]\n",
    "\n",
    "# Display results\n",
    "print(\"\\nMatched Transactions:\")\n",
    "print(matched)\n",
    "print(\"\\nUnmatched Transactions in Bank Data:\")\n",
    "print(unmatched_bank)\n",
    "print(\"\\nUnmatched Transactions in Ledger Data:\")\n",
    "print(unmatched_ledger)\n"
   ]
  },
  {
   "cell_type": "code",
   "execution_count": 22,
   "id": "86205d9e-ea2d-4eeb-9bea-80f113839ac9",
   "metadata": {},
   "outputs": [
    {
     "name": "stdout",
     "output_type": "stream",
     "text": [
      "Reconciliation report saved as 'reconciliation_report.xlsx'\n"
     ]
    }
   ],
   "source": [
    "# Save the results to Excel\n",
    "with pd.ExcelWriter(\"reconciliation_report.xlsx\") as writer:\n",
    "    matched.to_excel(writer, sheet_name=\"Matched\", index=False)\n",
    "    unmatched_bank.to_excel(writer, sheet_name=\"Unmatched Bank\", index=False)\n",
    "    unmatched_ledger.to_excel(writer, sheet_name=\"Unmatched Ledger\", index=False)\n",
    "\n",
    "print(\"Reconciliation report saved as 'reconciliation_report.xlsx'\")\n"
   ]
  },
  {
   "cell_type": "code",
   "execution_count": 23,
   "id": "3aa46e22-3845-4b9a-8358-c5614bb99d08",
   "metadata": {},
   "outputs": [
    {
     "name": "stdout",
     "output_type": "stream",
     "text": [
      "\n",
      "Reconciliation Summary:\n",
      "Total Bank Transactions: 4\n",
      "Total Ledger Transactions: 4\n",
      "Matched Transactions: 3\n",
      "Unmatched in Bank: 1\n",
      "Unmatched in Ledger: 1\n"
     ]
    }
   ],
   "source": [
    "# Summary counts\n",
    "summary = {\n",
    "    \"Total Bank Transactions\": len(bank_data),\n",
    "    \"Total Ledger Transactions\": len(ledger_data),\n",
    "    \"Matched Transactions\": len(matched),\n",
    "    \"Unmatched in Bank\": len(unmatched_bank),\n",
    "    \"Unmatched in Ledger\": len(unmatched_ledger),\n",
    "}\n",
    "\n",
    "print(\"\\nReconciliation Summary:\")\n",
    "for key, value in summary.items():\n",
    "    print(f\"{key}: {value}\")\n"
   ]
  },
  {
   "cell_type": "code",
   "execution_count": 24,
   "id": "1f102f2f-295c-415f-851c-96cd7e8783bc",
   "metadata": {},
   "outputs": [
    {
     "name": "stdout",
     "output_type": "stream",
     "text": [
      "Compliance Check Results:\n",
      "  Transaction ID  Amount  Transaction_ID_Valid  \\\n",
      "0           T001    5000                  True   \n",
      "1           T002   -1500                  True   \n",
      "2           T003    3000                  True   \n",
      "3           T004   -2500                  True   \n",
      "\n",
      "  Large_Transaction_No_Justification  \n",
      "0                          Compliant  \n",
      "1                          Compliant  \n",
      "2                          Compliant  \n",
      "3                          Compliant  \n",
      "        Date  Amount  Negative_Amount\n",
      "0 2024-12-01    5000            False\n",
      "1 2024-12-02   -1500             True\n",
      "2 2024-12-03    3000            False\n",
      "3 2024-12-05   -2000             True\n"
     ]
    }
   ],
   "source": [
    "import pandas as pd\n",
    "\n",
    "# Sample Compliance Checks\n",
    "\n",
    "# Check for missing Transaction IDs in the ledger_data\n",
    "ledger_data['Transaction_ID_Valid'] = ledger_data['Transaction ID'].notnull()\n",
    "\n",
    "# Check for large transactions above $10,000 without justification in ledger_data\n",
    "ledger_data['Large_Transaction_No_Justification'] = ledger_data.apply(\n",
    "    lambda x: \"Non-Compliant\" if x['Amount'] > 10000 and pd.isna(x['Justification']) else \"Compliant\", axis=1\n",
    ")\n",
    "\n",
    "# Check for negative amounts in bank_data (assuming only deposits should be positive)\n",
    "bank_data['Negative_Amount'] = bank_data['Amount'] < 0\n",
    "\n",
    "# Display results\n",
    "print(\"Compliance Check Results:\")\n",
    "print(ledger_data[['Transaction ID', 'Amount', 'Transaction_ID_Valid', 'Large_Transaction_No_Justification']].head())\n",
    "print(bank_data[['Date', 'Amount', 'Negative_Amount']].head())\n"
   ]
  },
  {
   "cell_type": "code",
   "execution_count": 25,
   "id": "cb04757a-0ab5-4692-8579-efd9e31ec2a2",
   "metadata": {},
   "outputs": [
    {
     "name": "stdout",
     "output_type": "stream",
     "text": [
      "Compliance report saved as 'compliance_check_report.xlsx'\n"
     ]
    }
   ],
   "source": [
    "# Save compliance results\n",
    "with pd.ExcelWriter(\"compliance_check_report.xlsx\") as writer:\n",
    "    ledger_data.to_excel(writer, sheet_name=\"Ledger Compliance\", index=False)\n",
    "    bank_data.to_excel(writer, sheet_name=\"Bank Compliance\", index=False)\n",
    "\n",
    "print(\"Compliance report saved as 'compliance_check_report.xlsx'\")\n"
   ]
  },
  {
   "cell_type": "code",
   "execution_count": null,
   "id": "62c8e15e-e376-47a3-86ae-c50e30109a7d",
   "metadata": {},
   "outputs": [],
   "source": []
  }
 ],
 "metadata": {
  "kernelspec": {
   "display_name": "Python 3 (ipykernel)",
   "language": "python",
   "name": "python3"
  },
  "language_info": {
   "codemirror_mode": {
    "name": "ipython",
    "version": 3
   },
   "file_extension": ".py",
   "mimetype": "text/x-python",
   "name": "python",
   "nbconvert_exporter": "python",
   "pygments_lexer": "ipython3",
   "version": "3.11.7"
  }
 },
 "nbformat": 4,
 "nbformat_minor": 5
}
